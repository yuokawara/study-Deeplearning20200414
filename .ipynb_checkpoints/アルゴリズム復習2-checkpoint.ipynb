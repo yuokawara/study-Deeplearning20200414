{
 "cells": [
  {
   "cell_type": "markdown",
   "metadata": {},
   "source": [
    "## 圧縮のアルゴリズム"
   ]
  },
  {
   "cell_type": "markdown",
   "metadata": {},
   "source": [
    "演習問題\n",
    "\n",
    "二つの和を計算する'add'という関数を作る"
   ]
  },
  {
   "cell_type": "markdown",
   "metadata": {},
   "source": [
    "- addという関数\n",
    "\n",
    "    - aという空のリスト\n",
    "    - bという空のリスト\n",
    "\n",
    "    - a + b を行う式\n",
    "    \n",
    "    - 結果を表示"
   ]
  },
  {
   "cell_type": "code",
   "execution_count": 3,
   "metadata": {},
   "outputs": [],
   "source": [
    "def add(a, b):\n",
    "    \n",
    "    add = a + b\n",
    "    return add"
   ]
  },
  {
   "cell_type": "code",
   "execution_count": 4,
   "metadata": {},
   "outputs": [
    {
     "data": {
      "text/plain": [
       "1"
      ]
     },
     "execution_count": 4,
     "metadata": {},
     "output_type": "execute_result"
    }
   ],
   "source": [
    "add(-3, 4)"
   ]
  },
  {
   "cell_type": "code",
   "execution_count": null,
   "metadata": {},
   "outputs": [],
   "source": []
  },
  {
   "cell_type": "markdown",
   "metadata": {},
   "source": [
    "問題２\n",
    "四則演算を返す'calc'という関数を作る\n",
    "\n",
    "- calc という関数\n",
    "    - +する式\n",
    "    - -する式\n",
    "    - ＊する式\n",
    "    - /する式\n",
    "    - 数値をいれるリスト\n",
    "    \n",
    "    出力\n",
    "    \n",
    "    calc(4, 2) -> (6, 2, 8, 2)"
   ]
  },
  {
   "cell_type": "code",
   "execution_count": 5,
   "metadata": {},
   "outputs": [],
   "source": [
    "def add(num1, num2):\n",
    "    add = num1+ num2\n",
    "    \n",
    "    return add\n",
    "\n"
   ]
  },
  {
   "cell_type": "code",
   "execution_count": 6,
   "metadata": {},
   "outputs": [
    {
     "data": {
      "text/plain": [
       "5"
      ]
     },
     "execution_count": 6,
     "metadata": {},
     "output_type": "execute_result"
    }
   ],
   "source": [
    "add(2, 3)"
   ]
  },
  {
   "cell_type": "code",
   "execution_count": 7,
   "metadata": {},
   "outputs": [],
   "source": [
    "def pull(num1, num2):\n",
    "    pull = num1 - num2\n",
    "    \n",
    "    return pull\n"
   ]
  },
  {
   "cell_type": "code",
   "execution_count": 8,
   "metadata": {},
   "outputs": [
    {
     "data": {
      "text/plain": [
       "1"
      ]
     },
     "execution_count": 8,
     "metadata": {},
     "output_type": "execute_result"
    }
   ],
   "source": [
    "pull(4, 3)"
   ]
  },
  {
   "cell_type": "code",
   "execution_count": 9,
   "metadata": {},
   "outputs": [],
   "source": [
    "def calc(num1, num2):\n",
    "    add = num1 + num2\n",
    "    pull = num1 - num2\n",
    "    dub = num1 * num2\n",
    "    sep = num1 / num2\n",
    "\n",
    "    return (add, pull, dub, sep)"
   ]
  },
  {
   "cell_type": "code",
   "execution_count": 10,
   "metadata": {},
   "outputs": [
    {
     "data": {
      "text/plain": [
       "(6, 2, 8, 2.0)"
      ]
     },
     "execution_count": 10,
     "metadata": {},
     "output_type": "execute_result"
    }
   ],
   "source": [
    "calc(4, 2)"
   ]
  },
  {
   "cell_type": "code",
   "execution_count": null,
   "metadata": {},
   "outputs": [],
   "source": []
  },
  {
   "cell_type": "markdown",
   "metadata": {},
   "source": [
    "問題３\n",
    "右と左を入れ替える'exchange'という関数を作る\n",
    "\n",
    "exchange(2, 3) -> (3, 2)"
   ]
  },
  {
   "cell_type": "code",
   "execution_count": 11,
   "metadata": {},
   "outputs": [],
   "source": [
    "# def exchange(a, b):\n",
    "\n",
    "#     return (b, a)\n",
    "\n",
    "## temporaryを使う\n",
    "\n",
    "def exchange(a, b):\n",
    "    tmp = a\n",
    "    a = b\n",
    "    b = tmp\n",
    "    \n",
    "    return (a, b)"
   ]
  },
  {
   "cell_type": "code",
   "execution_count": 12,
   "metadata": {},
   "outputs": [
    {
     "data": {
      "text/plain": [
       "(7, 3)"
      ]
     },
     "execution_count": 12,
     "metadata": {},
     "output_type": "execute_result"
    }
   ],
   "source": [
    "exchange(3,7)"
   ]
  },
  {
   "cell_type": "markdown",
   "metadata": {},
   "source": []
  },
  {
   "cell_type": "raw",
   "metadata": {},
   "source": [
    "問題４　リストに対する和の関数'add'の作成\n",
    "\n",
    "a = [1, 2, 3]\n",
    "b = [4, 5, 6]\n",
    "\n",
    "a + b = [5, 7, 9]"
   ]
  },
  {
   "cell_type": "code",
   "execution_count": 92,
   "metadata": {},
   "outputs": [],
   "source": [
    "a = [1, 2, 3]\n",
    "b = [4, 5, 6]"
   ]
  },
  {
   "cell_type": "code",
   "execution_count": 93,
   "metadata": {},
   "outputs": [],
   "source": [
    "def add(a, b):\n",
    "   \n",
    "    \n",
    "    ## リスト内足し算\n",
    "    \n",
    "    #     X1 = a1 + b1\n",
    "    #     X2 = a2 + b2\n",
    "    #     X3 = a3 + b3\n",
    "    #     add = [X1, X2, X3]\n",
    "    \n",
    "    return   [a[0] + b[0], a[1] + b[1],  a[2] + b[2]]"
   ]
  },
  {
   "cell_type": "code",
   "execution_count": 94,
   "metadata": {},
   "outputs": [
    {
     "data": {
      "text/plain": [
       "[5, 7, 9]"
      ]
     },
     "execution_count": 94,
     "metadata": {},
     "output_type": "execute_result"
    }
   ],
   "source": [
    "add(a, b)"
   ]
  },
  {
   "cell_type": "code",
   "execution_count": 95,
   "metadata": {},
   "outputs": [],
   "source": [
    "## リファクタリング　汎用性を高める"
   ]
  },
  {
   "cell_type": "markdown",
   "metadata": {},
   "source": [
    "- 空のリスト定義　results\n",
    "    - i = 0,1,2\n",
    "        - リストa[i]とリストb[i]を足し算\n",
    "        - resultに結果を追加"
   ]
  },
  {
   "cell_type": "code",
   "execution_count": 96,
   "metadata": {},
   "outputs": [],
   "source": [
    "a = [1, 2, 3]\n",
    "b = [4, 5, 6]"
   ]
  },
  {
   "cell_type": "code",
   "execution_count": 97,
   "metadata": {},
   "outputs": [],
   "source": [
    "def add (a, b):\n",
    "    results = []\n",
    "    \n",
    "    ## リストをa回計算(len)を使う\n",
    "    for i in range(len(a)): \n",
    "        \n",
    "        ## リストを足し算\n",
    "        results.append(a[i] + b[i])\n",
    "        \n",
    "    return results"
   ]
  },
  {
   "cell_type": "code",
   "execution_count": 98,
   "metadata": {},
   "outputs": [
    {
     "data": {
      "text/plain": [
       "[8, 10, 12]"
      ]
     },
     "execution_count": 98,
     "metadata": {},
     "output_type": "execute_result"
    }
   ],
   "source": [
    "add(a, c)"
   ]
  },
  {
   "cell_type": "code",
   "execution_count": null,
   "metadata": {},
   "outputs": [],
   "source": []
  },
  {
   "cell_type": "markdown",
   "metadata": {},
   "source": [
    " ## 可読性を考える\n"
   ]
  },
  {
   "cell_type": "code",
   "execution_count": 99,
   "metadata": {},
   "outputs": [],
   "source": [
    "a = [1, 2, 3]\n",
    "b = [4, 5, 6]"
   ]
  },
  {
   "cell_type": "code",
   "execution_count": 100,
   "metadata": {},
   "outputs": [],
   "source": [
    " results = []\n",
    "    \n",
    "#     for i in range(len(a)): \n",
    "#         results.append(a[i] + b[i])\n",
    "\n",
    "## このように書くと、リストaから1つ取り出してxに入れる、リストbから1つ取り出してyに入れる処理になる（zip関数）\n",
    "\n",
    "for (_a, _b) in zip(a, b):\n",
    "    results.append(_a + _b)\n",
    "    "
   ]
  },
  {
   "cell_type": "code",
   "execution_count": 101,
   "metadata": {},
   "outputs": [
    {
     "data": {
      "text/plain": [
       "[5, 7, 9]"
      ]
     },
     "execution_count": 101,
     "metadata": {},
     "output_type": "execute_result"
    }
   ],
   "source": [
    "results"
   ]
  },
  {
   "cell_type": "markdown",
   "metadata": {},
   "source": [
    "関数化"
   ]
  },
  {
   "cell_type": "code",
   "execution_count": 102,
   "metadata": {},
   "outputs": [],
   "source": [
    "def add(a, b):\n",
    "    results = []\n",
    "    for (_a, _b) in zip(a, b):\n",
    "        results.append(_a + _b)\n",
    "        \n",
    "    return results"
   ]
  },
  {
   "cell_type": "code",
   "execution_count": 103,
   "metadata": {},
   "outputs": [
    {
     "data": {
      "text/plain": [
       "[5, 7, 9]"
      ]
     },
     "execution_count": 103,
     "metadata": {},
     "output_type": "execute_result"
    }
   ],
   "source": [
    "add(a, b)"
   ]
  },
  {
   "cell_type": "markdown",
   "metadata": {},
   "source": []
  },
  {
   "cell_type": "markdown",
   "metadata": {},
   "source": [
    "問題５\n",
    "\n",
    "- a = [1, 2, 3] \n",
    "- b = [4, 5, 6] \n",
    "- c = [7, 8, 9] \n",
    "- d = [1, 3, 5, 7] \n",
    "\n",
    "    - add(a, b) -> [5, 7, 9]\n",
    "    - add(c, d) -> error\n",
    "    例外処理を作る"
   ]
  },
  {
   "cell_type": "markdown",
   "metadata": {},
   "source": [
    "## まず動かしてみる"
   ]
  },
  {
   "cell_type": "code",
   "execution_count": 204,
   "metadata": {},
   "outputs": [],
   "source": [
    "c = [1, 2, 3,]\n",
    "d = [1, 2, 3, 4]\n"
   ]
  },
  {
   "cell_type": "code",
   "execution_count": 205,
   "metadata": {},
   "outputs": [],
   "source": [
    "def add(c, d):\n",
    "    if len(c) == len(d):\n",
    "        results = []\n",
    "        for (_c, _d) in zip(c, d):\n",
    "            results.append(_c + _d)\n",
    "        return results\n",
    "    else:\n",
    "            return 'errorだよー'"
   ]
  },
  {
   "cell_type": "code",
   "execution_count": 206,
   "metadata": {},
   "outputs": [
    {
     "data": {
      "text/plain": [
       "'errorだよー'"
      ]
     },
     "execution_count": 206,
     "metadata": {},
     "output_type": "execute_result"
    }
   ],
   "source": [
    "add(c, d)"
   ]
  },
  {
   "cell_type": "code",
   "execution_count": null,
   "metadata": {},
   "outputs": [],
   "source": []
  },
  {
   "cell_type": "markdown",
   "metadata": {},
   "source": [
    "## 演習課題：　圧縮のアルゴリズム"
   ]
  },
  {
   "cell_type": "code",
   "execution_count": 211,
   "metadata": {},
   "outputs": [],
   "source": [
    "with open('original.txt', 'r') as f:\n",
    "    text = f.read()"
   ]
  },
  {
   "cell_type": "code",
   "execution_count": 212,
   "metadata": {},
   "outputs": [
    {
     "data": {
      "text/plain": [
       "'0000000000000000000000000000000000000011111111111110000000000000000000000000000000000000000000000000000000000000000000000000111111111100000000000000000000000000000000000000000000000000000000000000000000000000001111110000000000000000000000000000000000000000000000000000000000000000000000000000000011111111111111111111111111111111111111111111111111111111111111111000000000000000001100000000000000000000000000000000000000000000000000000000000000000000000000000111111111111111111111111111111111111111111111111111111111111111111111111000000011111111111111111111111111000000000000000000000000000000000000000000000000000111111111111111111111000000000000000000011111111111111111111111111111111111111111111111111111111111111111111111111111111111110000000000001111111111111111111111111111100000000000000000000000000000011111111111111100000000000000000000000000000000000000000000000000011111111111111111111111111111111111111111111111111111111111111111111100000000000000000000000000000000000000000000000000000000'"
      ]
     },
     "execution_count": 212,
     "metadata": {},
     "output_type": "execute_result"
    }
   ],
   "source": [
    "text[:1000]"
   ]
  },
  {
   "cell_type": "markdown",
   "metadata": {},
   "source": [
    "条件\n",
    "\n",
    "- 0と１が交互に並んでいる\n",
    "- 連続して並ぶ回数は１〜９９回まで"
   ]
  },
  {
   "cell_type": "code",
   "execution_count": 213,
   "metadata": {},
   "outputs": [
    {
     "data": {
      "text/plain": [
       "999536"
      ]
     },
     "execution_count": 213,
     "metadata": {},
     "output_type": "execute_result"
    }
   ],
   "source": [
    "len(text)"
   ]
  },
  {
   "cell_type": "code",
   "execution_count": null,
   "metadata": {},
   "outputs": [],
   "source": []
  },
  {
   "cell_type": "markdown",
   "metadata": {},
   "source": [
    "問題\n",
    "\n",
    "このtextを情報が「劣化」しないように圧縮する\n",
    "\n",
    "＊劣化しない＝元に戻した時に、同じ状態になること\n",
    "\n",
    "- 圧縮を行う関数　encode を作成。\n",
    "    - text_encode <= 極力文字の少ない\n",
    "- 複合を行う関数　decode を作成。\n",
    "    - text_decode == text\n",
    "    "
   ]
  },
  {
   "cell_type": "markdown",
   "metadata": {},
   "source": [
    "手元で小さく考える\n",
    "\n",
    " - text = 000000111111111111\n",
    "     - 000000 -> 0[06]\n",
    "     - 111111111111 -> 1[12]\n",
    "     \n",
    " のように考える。\n",
    "\n",
    "これを元にエンコード\n",
    "\n",
    "        - text_encode = 006112...のような形になる。\n",
    "\n",
    "0 or 1 の２択のため、　006(1)12の（１）は省略できてしまう。\n",
    "\n",
    "        - text_encode = 00612 になる\n",
    "\n",
    "- text_encode = encode(text)\n",
    "- text_encode → '00612'\n",
    "\n",
    "## decode\n",
    "\n",
    "- text_decode = decode(text_encode)\n",
    "- text_decode →　'000000111111111111'\n",
    "\n",
    "の形になればいい。\n",
    "\n",
    "\n",
    "\n"
   ]
  },
  {
   "cell_type": "code",
   "execution_count": null,
   "metadata": {},
   "outputs": [],
   "source": []
  },
  {
   "cell_type": "markdown",
   "metadata": {},
   "source": [
    "## encodeのアルゴリズム"
   ]
  },
  {
   "cell_type": "markdown",
   "metadata": {},
   "source": [
    "- 先頭が０か1かを取得。\n",
    "- 何文字続くか、カウントを取得\n",
    "- １桁の場合は０を入れて補正。（０６のような感じにする。）\n",
    "- 整数を文字列に変える。\n",
    "- 全てを文字として足し合わせる。"
   ]
  },
  {
   "cell_type": "markdown",
   "metadata": {},
   "source": [
    "## デモ"
   ]
  },
  {
   "cell_type": "code",
   "execution_count": 23,
   "metadata": {},
   "outputs": [],
   "source": [
    "text = '000000111111111111'"
   ]
  },
  {
   "cell_type": "code",
   "execution_count": 25,
   "metadata": {},
   "outputs": [
    {
     "data": {
      "text/plain": [
       "'0'"
      ]
     },
     "execution_count": 25,
     "metadata": {},
     "output_type": "execute_result"
    }
   ],
   "source": [
    "# 先頭の文字を取得\n",
    "head = text[0]\n",
    "# 先頭の文字を定義\n",
    "head"
   ]
  },
  {
   "cell_type": "code",
   "execution_count": 26,
   "metadata": {},
   "outputs": [],
   "source": [
    "# for文で文字文を回せる・・・ch(character)\n",
    "counts = []\n",
    "count = 0\n",
    "for ch in text:\n",
    "    \n",
    "    # もしキャラクターが***の場合,カウントを１足します。\n",
    "    if ch == head:\n",
    "        count += 1\n",
    "    else:\n",
    "        counts.append(count)## カウントした０がいくつあるかを表示し、終了後カウント初期化   \n",
    "        count = 1 ## 1文字目が入っているので、１からスタート\n",
    "        \n",
    "        ## '0'でなければ'１'が入っている。\n",
    "        head = ch\n",
    "        \n",
    "## for文に対してelseを使う（python独特のもの。意外と便利）　繰り返しの最後に処理\n",
    "else:\n",
    "    counts.append(count)"
   ]
  },
  {
   "cell_type": "code",
   "execution_count": 27,
   "metadata": {},
   "outputs": [
    {
     "data": {
      "text/plain": [
       "[6, 12]"
      ]
     },
     "execution_count": 27,
     "metadata": {},
     "output_type": "execute_result"
    }
   ],
   "source": [
    "counts"
   ]
  },
  {
   "cell_type": "markdown",
   "metadata": {},
   "source": [
    "関数化"
   ]
  },
  {
   "cell_type": "code",
   "execution_count": 30,
   "metadata": {},
   "outputs": [],
   "source": [
    "def get_count(text):\n",
    "    \n",
    "    head = text[0]\n",
    "    counts = []\n",
    "    count = 0\n",
    "    \n",
    "    for ch in text:\n",
    "        if ch == head:\n",
    "            count += 1\n",
    "        else:\n",
    "            counts.append(count) \n",
    "            count = 1\n",
    "            head = ch\n",
    "    else:\n",
    "        counts.append(count)\n",
    "        \n",
    "    return counts"
   ]
  },
  {
   "cell_type": "code",
   "execution_count": 31,
   "metadata": {},
   "outputs": [
    {
     "data": {
      "text/plain": [
       "[6, 12]"
      ]
     },
     "execution_count": 31,
     "metadata": {},
     "output_type": "execute_result"
    }
   ],
   "source": [
    "get_count(text)"
   ]
  },
  {
   "cell_type": "markdown",
   "metadata": {},
   "source": [
    "## 整数から文字列に変える関数を作る。\n",
    "- 整数'6'を'06'に変換\n",
    "- 整数'12'を'12'に変換"
   ]
  },
  {
   "cell_type": "code",
   "execution_count": 1,
   "metadata": {},
   "outputs": [],
   "source": [
    "count = 6"
   ]
  },
  {
   "cell_type": "code",
   "execution_count": 2,
   "metadata": {},
   "outputs": [],
   "source": [
    "if count > 10:\n",
    "    print('0' + str(count))"
   ]
  },
  {
   "cell_type": "code",
   "execution_count": null,
   "metadata": {},
   "outputs": [],
   "source": []
  }
 ],
 "metadata": {
  "kernelspec": {
   "display_name": "Python 3",
   "language": "python",
   "name": "python3"
  },
  "language_info": {
   "codemirror_mode": {
    "name": "ipython",
    "version": 3
   },
   "file_extension": ".py",
   "mimetype": "text/x-python",
   "name": "python",
   "nbconvert_exporter": "python",
   "pygments_lexer": "ipython3",
   "version": "3.7.6"
  }
 },
 "nbformat": 4,
 "nbformat_minor": 4
}
