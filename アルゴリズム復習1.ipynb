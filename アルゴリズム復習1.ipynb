{
 "cells": [
  {
   "cell_type": "markdown",
   "metadata": {},
   "source": [
    "## 演習課題　（60分使う）\n",
    "\n",
    "問題\n",
    "\n",
    "10000までの素数を表示するプログラム。\n",
    "\n",
    "※1と自分自身以外に約数を持たない数　　　　　1,2,3,5,7.......\n",
    "\n",
    "- アルゴリズムを書く\n",
    "- コードを書く => まず動く　=> リファクタリング"
   ]
  },
  {
   "cell_type": "code",
   "execution_count": 17,
   "metadata": {},
   "outputs": [
    {
     "name": "stdout",
     "output_type": "stream",
     "text": [
      "[1]\n",
      "[1, 2]\n",
      "[1, 2, 5]\n",
      "[1, 2, 5, 10]\n"
     ]
    }
   ],
   "source": [
    "## 練習中\n",
    "a = 10\n",
    "j = []\n",
    "\n",
    "for i in range(1, a + 1):\n",
    "    if a % i == 0:\n",
    "        j.append(i)\n",
    "    \n",
    "        print(j)"
   ]
  },
  {
   "cell_type": "code",
   "execution_count": null,
   "metadata": {},
   "outputs": [],
   "source": []
  },
  {
   "cell_type": "markdown",
   "metadata": {},
   "source": [
    "## アルゴリズム\n",
    "\n",
    "- 10000までの素数を判定\n",
    "- その素数を画面に表示\n",
    "- 10あたりからまずは小さい数字で試す　→余り０なら素数ではない。余りがあるのは素数"
   ]
  },
  {
   "cell_type": "markdown",
   "metadata": {},
   "source": [
    "## 素数判定フラグを作る"
   ]
  },
  {
   "cell_type": "markdown",
   "metadata": {},
   "source": [
    "フラグを初期化・・・余りありTrueとする。余りなしはFalse.\n",
    "10より小さな全ての値で（１除く）フラグがTrueであれば素数。"
   ]
  },
  {
   "cell_type": "markdown",
   "metadata": {},
   "source": [
    "- 素数を格納する空のリスト numbers　で初期化\n",
    "\n",
    "\n",
    "- iを1〜10000まで繰り返す\n",
    "    - jをnumbers（既に持っている素数のリスト）で割り切れたら、フラグはfalse　 + その時点で抜ける（breakする）\n",
    "    - iより小さな全ての値（1除く）でフラグがtrueであれば素数\n",
    "    - 素数であればnumbersに追加"
   ]
  },
  {
   "cell_type": "code",
   "execution_count": 25,
   "metadata": {},
   "outputs": [],
   "source": [
    "## 仕上げに関数化\n",
    "## breakを追加\n",
    "def get_prime_numbers(max_val):\n",
    "\n",
    "    ## 空のリスト　numbersで初期化\n",
    "    numbers = []\n",
    "\n",
    "    ## iを1〜10までくりかえす\n",
    "    for i in range(1, max_val +1):\n",
    "        flag = True ## 素数判定フラグ\n",
    "\n",
    "        for j in range(2, i):\n",
    "            if i % j == 0:\n",
    "                flag = False\n",
    "                break\n",
    "\n",
    "        ## 素数の場合\n",
    "        if flag == True:\n",
    "            numbers.append(i)\n",
    "            \n",
    "    return numbers"
   ]
  },
  {
   "cell_type": "code",
   "execution_count": 26,
   "metadata": {},
   "outputs": [
    {
     "name": "stdout",
     "output_type": "stream",
     "text": [
      "5.41 µs ± 124 ns per loop (mean ± std. dev. of 7 runs, 100000 loops each)\n"
     ]
    }
   ],
   "source": [
    "%%timeit\n",
    "numbers = get_prime_numbers(10)"
   ]
  },
  {
   "cell_type": "code",
   "execution_count": 27,
   "metadata": {},
   "outputs": [
    {
     "name": "stdout",
     "output_type": "stream",
     "text": [
      "107 µs ± 4.79 µs per loop (mean ± std. dev. of 7 runs, 10000 loops each)\n"
     ]
    }
   ],
   "source": [
    "%%timeit\n",
    "numbers = get_prime_numbers(100)"
   ]
  },
  {
   "cell_type": "code",
   "execution_count": 28,
   "metadata": {},
   "outputs": [
    {
     "name": "stdout",
     "output_type": "stream",
     "text": [
      "5.51 ms ± 113 µs per loop (mean ± std. dev. of 7 runs, 100 loops each)\n"
     ]
    }
   ],
   "source": [
    "%%timeit\n",
    "numbers = get_prime_numbers(1000)"
   ]
  },
  {
   "cell_type": "code",
   "execution_count": 29,
   "metadata": {},
   "outputs": [
    {
     "name": "stdout",
     "output_type": "stream",
     "text": [
      "464 ms ± 5.63 ms per loop (mean ± std. dev. of 7 runs, 1 loop each)\n"
     ]
    }
   ],
   "source": [
    "%%timeit\n",
    "numbers = get_prime_numbers(10000)"
   ]
  },
  {
   "cell_type": "markdown",
   "metadata": {},
   "source": [
    "## 計算量　（オーダー）\n",
    "$n = 10$\n",
    "- $O(n)$    10倍にすると、計算量も１０倍になる。\n",
    "- $O(n^2)$    10倍にすると、計算量も１00倍になる。"
   ]
  },
  {
   "cell_type": "code",
   "execution_count": 7,
   "metadata": {},
   "outputs": [],
   "source": [
    "%matplotlib inline\n",
    "import matplotlib.pyplot as plt"
   ]
  },
  {
   "cell_type": "code",
   "execution_count": 30,
   "metadata": {
    "scrolled": false
   },
   "outputs": [
    {
     "data": {
      "text/plain": [
       "[<matplotlib.lines.Line2D at 0x111789550>]"
      ]
     },
     "execution_count": 30,
     "metadata": {},
     "output_type": "execute_result"
    },
    {
     "data": {
      "image/png": "[encoded data removed]",
      "text/plain": [
       "<Figure size 432x288 with 1 Axes>"
      ]
     },
     "metadata": {
      "needs_background": "light"
     },
     "output_type": "display_data"
    }
   ],
   "source": [
    "max_val = [10, 100, 1000, 10000]\n",
    "times = [5.41* 1e-6, 107* 1e-6, 5.51*1e-3, 464*1e-3]\n",
    "\n",
    "plt.plot(max_val, times)"
   ]
  },
  {
   "cell_type": "code",
   "execution_count": 34,
   "metadata": {},
   "outputs": [
    {
     "data": {
      "text/plain": [
       "[<matplotlib.lines.Line2D at 0x111a7b650>]"
      ]
     },
     "execution_count": 34,
     "metadata": {},
     "output_type": "execute_result"
    },
    {
     "data": {
      "image/png": "[encoded data removed]",
      "text/plain": [
       "<Figure size 432x288 with 1 Axes>"
      ]
     },
     "metadata": {
      "needs_background": "light"
     },
     "output_type": "display_data"
    }
   ],
   "source": [
    "## 片対数グラフ\n",
    "max_val = [1, 2, 3, 4]\n",
    "times = [5.41* 1e-6, 107* 1e-6, 5.51*1e-3, 464*1e-3]\n",
    "\n",
    "plt.plot(max_val, times)"
   ]
  },
  {
   "cell_type": "markdown",
   "metadata": {},
   "source": [
    "例えば１０の時\n",
    "\n",
    "    2,（3,4,5,6,7,8,9）で割り算して余りをチェック。・・・・３以降breakできる"
   ]
  },
  {
   "cell_type": "markdown",
   "metadata": {},
   "source": [
    "## 高速化対応"
   ]
  },
  {
   "cell_type": "code",
   "execution_count": 53,
   "metadata": {},
   "outputs": [],
   "source": [
    "## breakを追加\n",
    "def get_prime_numbers(max_val):\n",
    "\n",
    "    ## 空のリスト　numbersで初期化\n",
    "    numbers = []\n",
    "\n",
    "    ## iを1〜10までくりかえす\n",
    "    for i in range(2, max_val +1):\n",
    "        flag = True ## 素数判定フラグ\n",
    "        \n",
    "    ## jをnumbers（既に持っている素数のリスト）で割り切れたら、フラグはfalse　 + その時点で抜ける（breakする）\n",
    "        for j in numbers: \n",
    "            if i % j == 0:\n",
    "                flag = False\n",
    "                break\n",
    "\n",
    "        ## 素数の場合\n",
    "        if flag == True:\n",
    "            numbers.append(i)\n",
    "            \n",
    "    numbers.insert(0, 1)   ##    最後に１を追加して計算を終える（１も素数のため）\n",
    "    return numbers"
   ]
  },
  {
   "cell_type": "code",
   "execution_count": 54,
   "metadata": {},
   "outputs": [
    {
     "name": "stdout",
     "output_type": "stream",
     "text": [
      "2.64 µs ± 140 ns per loop (mean ± std. dev. of 7 runs, 100000 loops each)\n"
     ]
    }
   ],
   "source": [
    "%%timeit\n",
    "numbers = get_prime_numbers(10)"
   ]
  },
  {
   "cell_type": "code",
   "execution_count": 55,
   "metadata": {},
   "outputs": [
    {
     "name": "stdout",
     "output_type": "stream",
     "text": [
      "35.7 µs ± 217 ns per loop (mean ± std. dev. of 7 runs, 10000 loops each)\n"
     ]
    }
   ],
   "source": [
    "%%timeit\n",
    "numbers = get_prime_numbers(100)"
   ]
  },
  {
   "cell_type": "code",
   "execution_count": 56,
   "metadata": {},
   "outputs": [
    {
     "name": "stdout",
     "output_type": "stream",
     "text": [
      "1.05 ms ± 20.6 µs per loop (mean ± std. dev. of 7 runs, 1000 loops each)\n"
     ]
    }
   ],
   "source": [
    "%%timeit\n",
    "numbers = get_prime_numbers(1000)"
   ]
  },
  {
   "cell_type": "code",
   "execution_count": 57,
   "metadata": {},
   "outputs": [
    {
     "name": "stdout",
     "output_type": "stream",
     "text": [
      "57 ms ± 950 µs per loop (mean ± std. dev. of 7 runs, 10 loops each)\n"
     ]
    }
   ],
   "source": [
    "%%timeit\n",
    "numbers = get_prime_numbers(10000)"
   ]
  },
  {
   "cell_type": "code",
   "execution_count": 58,
   "metadata": {},
   "outputs": [
    {
     "data": {
      "text/plain": [
       "[<matplotlib.lines.Line2D at 0x113d083d0>]"
      ]
     },
     "execution_count": 58,
     "metadata": {},
     "output_type": "execute_result"
    },
    {
     "data": {
      "image/png": "[encoded data removed]",
      "text/plain": [
       "<Figure size 432x288 with 1 Axes>"
      ]
     },
     "metadata": {
      "needs_background": "light"
     },
     "output_type": "display_data"
    }
   ],
   "source": [
    "## 片対数グラフ\n",
    "max_val = [1, 2, 3, 4]\n",
    "times = [2.64* 1e-6, 35.7* 1e-6, 1.05*1e-3, 57*1e-3]\n",
    "plt.plot(max_val, times)"
   ]
  },
  {
   "cell_type": "code",
   "execution_count": null,
   "metadata": {},
   "outputs": [],
   "source": []
  }
 ],
 "metadata": {
  "kernelspec": {
   "display_name": "Python 3",
   "language": "python",
   "name": "python3"
  },
  "language_info": {
   "codemirror_mode": {
    "name": "ipython",
    "version": 3
   },
   "file_extension": ".py",
   "mimetype": "text/x-python",
   "name": "python",
   "nbconvert_exporter": "python",
   "pygments_lexer": "ipython3",
   "version": "3.7.6"
  }
 },
 "nbformat": 4,
 "nbformat_minor": 4
}
